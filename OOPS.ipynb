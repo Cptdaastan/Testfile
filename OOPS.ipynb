{
 "cells": [
  {
   "cell_type": "markdown",
   "metadata": {},
   "source": [
    "# OOPS"
   ]
  },
  {
   "cell_type": "code",
   "execution_count": 54,
   "metadata": {},
   "outputs": [],
   "source": [
    "class Student:\n",
    "    def __init__(self,name,sub1,sub2,sub3):\n",
    "        self.name  =name\n",
    "        self.sub1 =sub1\n",
    "        self.sub2 =sub2\n",
    "        self.sub3 =sub3\n",
    "    def putval1(self,val1):\n",
    "        self.sub1 =val1\n",
    "        print(\"The value of sub1 is changed now value is\",self.sub1)\n",
    "        \n",
    "    def putval2(self,val2):\n",
    "        self.sub2 =val2\n",
    "        print(\"The value of sub1 is changed now value is\",self.sub1)\n",
    "        \n",
    "        \n",
    "    def putval3(self,val3):\n",
    "        self.sub3 =val3\n",
    "        print(\"The value of sub1 is changed now value is\",self.sub1)\n",
    "        \n",
    "    def show_info(self):\n",
    "        list1 =[self.sub1,self.sub2,self.sub3]\n",
    "        st =\"st marrey school delhi\"\n",
    "        print(\"\\t\",st.title())\n",
    "        print(\"Class of student is :\\t 6A\",end ='\\n')\n",
    "        print(\"Annnual year of student of passing is 2020-2021\")\n",
    "        print(\"The name of Student:\\t\",self.name)\n",
    "        print(\"there is the marksof sunject s\",list1)\n",
    "    def cal(self):\n",
    "        list1 =[self.sub1,self.sub2,self.sub3]\n",
    "        for i in list1:\n",
    "            if i >=35:\n",
    "                if i>=75:\n",
    "                    print(\"Passed with good gread!!\",i)\n",
    "                    break\n",
    "                else:\n",
    "                    print(self.name,\"passed in exam in sub:\\t\",i)\n",
    "            else:\n",
    "                print(\"Sorry! Failed in Exam in sub:\\t\",i)\n",
    "    \n",
    "    def getval1(self):\n",
    "        print(\"This is the marks of sub1:\\t\",self.sub1)\n",
    "    \n",
    "    def getval2(self):\n",
    "        print(\"This is the marks of sub1:\\t\",self.sub2)\n",
    "    def getval3(self):\n",
    "        print(\"This is the marks of sub1:\\t\",self.sub3)"
   ]
  },
  {
   "cell_type": "code",
   "execution_count": 55,
   "metadata": {},
   "outputs": [],
   "source": [
    "suresh =Student(\"Suresh\",35,34,35)\n",
    "ramesh =Student(\"Ramesh\",78,98,78)"
   ]
  },
  {
   "cell_type": "code",
   "execution_count": 56,
   "metadata": {},
   "outputs": [
    {
     "name": "stdout",
     "output_type": "stream",
     "text": [
      "\t St Marrey School Delhi\n",
      "Class of student is :\t 6A\n",
      "Annnual year of student of passing is 2020-2021\n",
      "The name of Student:\t Suresh\n",
      "there is the marksof sunject s [35, 34, 35]\n",
      "The value of sub1 is changed now value is 78\n",
      "The value of sub1 is changed now value is 78\n",
      "The value of sub1 is changed now value is 78\n"
     ]
    }
   ],
   "source": [
    "suresh.show_info()\n",
    "suresh.putval1(78)\n",
    "suresh.putval2(88)\n",
    "suresh.putval3(98)"
   ]
  },
  {
   "cell_type": "code",
   "execution_count": 57,
   "metadata": {},
   "outputs": [
    {
     "name": "stdout",
     "output_type": "stream",
     "text": [
      "\t St Marrey School Delhi\n",
      "Class of student is :\t 6A\n",
      "Annnual year of student of passing is 2020-2021\n",
      "The name of Student:\t Ramesh\n",
      "there is the marksof sunject s [78, 98, 78]\n",
      "\t St Marrey School Delhi\n",
      "Class of student is :\t 6A\n",
      "Annnual year of student of passing is 2020-2021\n",
      "The name of Student:\t Suresh\n",
      "there is the marksof sunject s [78, 88, 98]\n",
      "This is the marks of sub1:\t 78\n",
      "This is the marks of sub1:\t 88\n",
      "This is the marks of sub1:\t 98\n"
     ]
    }
   ],
   "source": [
    "ramesh.show_info()\n",
    "suresh.show_info()\n",
    "suresh.getval1()\n",
    "suresh.getval2()\n",
    "suresh.getval3()"
   ]
  },
  {
   "cell_type": "code",
   "execution_count": 38,
   "metadata": {},
   "outputs": [
    {
     "name": "stdout",
     "output_type": "stream",
     "text": [
      "Passed with good gread!! 78\n"
     ]
    }
   ],
   "source": [
    "ramesh.cal()"
   ]
  },
  {
   "cell_type": "code",
   "execution_count": 39,
   "metadata": {},
   "outputs": [
    {
     "name": "stdout",
     "output_type": "stream",
     "text": [
      "Suresh passed in exam in sub:\t 35\n",
      "Sorry! Failed in Exam in sub:\t 34\n",
      "Suresh passed in exam in sub:\t 35\n"
     ]
    }
   ],
   "source": [
    "suresh.cal()"
   ]
  },
  {
   "cell_type": "markdown",
   "metadata": {},
   "source": [
    "# inheritance"
   ]
  },
  {
   "cell_type": "code",
   "execution_count": 71,
   "metadata": {},
   "outputs": [],
   "source": [
    "class Animal:\n",
    "    def __init__(self):\n",
    "        print(\"Animal is in world \")\n",
    "    def WhoI(self):\n",
    "        print(\"I am Animal\")\n",
    "    def eat(self):\n",
    "        print(\"I am Animal and I eat\")\n",
    "    def breathe(self):\n",
    "        print(\"Yes! \\t I am Animal And I breathe tooo!!\")"
   ]
  },
  {
   "cell_type": "code",
   "execution_count": 72,
   "metadata": {},
   "outputs": [],
   "source": [
    "class Student(Animal):\n",
    "    def __init__(self,name):\n",
    "        Animal.__init__(self)\n",
    "        self.name =name\n",
    "        print(f\"Yes I am {self.name} and I am a Student and Animal too\")"
   ]
  },
  {
   "cell_type": "code",
   "execution_count": 74,
   "metadata": {},
   "outputs": [
    {
     "name": "stdout",
     "output_type": "stream",
     "text": [
      "Animal is in world \n",
      "Yes I am Reema and I am a Student and Animal too\n",
      "I am Animal\n",
      "I am Animal and I eat\n",
      "Yes! \t I am Animal And I breathe tooo!!\n"
     ]
    }
   ],
   "source": [
    "Rema =Student(\"Reema\")\n",
    "Rema.WhoI()\n",
    "Rema.eat()\n",
    "Rema.breathe()"
   ]
  },
  {
   "cell_type": "code",
   "execution_count": 67,
   "metadata": {},
   "outputs": [
    {
     "name": "stdout",
     "output_type": "stream",
     "text": [
      "I am Animal\n"
     ]
    }
   ],
   "source": [
    "Rema.WhoI()"
   ]
  },
  {
   "cell_type": "code",
   "execution_count": 68,
   "metadata": {},
   "outputs": [
    {
     "name": "stdout",
     "output_type": "stream",
     "text": [
      "I am Animal and I eat\n"
     ]
    }
   ],
   "source": [
    "Rema.eat()"
   ]
  },
  {
   "cell_type": "code",
   "execution_count": 70,
   "metadata": {},
   "outputs": [
    {
     "name": "stdout",
     "output_type": "stream",
     "text": [
      "Yes! \t I am Animal And I breathe tooo!!\n"
     ]
    }
   ],
   "source": [
    "Rema.breathe()"
   ]
  },
  {
   "cell_type": "code",
   "execution_count": null,
   "metadata": {},
   "outputs": [],
   "source": [
    "class (A,B):\n",
    "    def __init__(self):\n",
    "        A.__init__(self)\n",
    "        B.__init__(self)\n",
    "MRO "
   ]
  }
 ],
 "metadata": {
  "kernelspec": {
   "display_name": "Python 3",
   "language": "python",
   "name": "python3"
  },
  "language_info": {
   "codemirror_mode": {
    "name": "ipython",
    "version": 3
   },
   "file_extension": ".py",
   "mimetype": "text/x-python",
   "name": "python",
   "nbconvert_exporter": "python",
   "pygments_lexer": "ipython3",
   "version": "3.7.6"
  }
 },
 "nbformat": 4,
 "nbformat_minor": 4
}
